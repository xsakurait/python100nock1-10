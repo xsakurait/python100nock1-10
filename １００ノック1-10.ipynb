{
 "cells": [
  {
   "cell_type": "code",
   "execution_count": 3,
   "id": "aff41812",
   "metadata": {},
   "outputs": [],
   "source": [
    "#セルの追加（wsp(wscape)キーオスとカーソルがセルから外れる）\n",
    "#外してからbで追加\n",
    "\n",
    "#セル選択でMキーでMarkdown yキーでCode\n",
    "\n",
    "#d2回でセル削除\n",
    "\n",
    "#ctrl+enterでセル実行\n",
    "\n",
    "#セル追加してそのセルに移動 shift+enter\n",
    "# 次にすでにセルあるときはそのセルに移動\n",
    "\n",
    "#方向キーで移動もできる"
   ]
  },
  {
   "cell_type": "code",
   "execution_count": 4,
   "id": "d2fac349",
   "metadata": {},
   "outputs": [],
   "source": [
    "#インストール済みのパッケージを表示\n",
    "#!(OSコマンドを呼び出せる)conda list or !pip list or pip freeze(各ライブラリのバージョンも表示、requirements.txt形式)"
   ]
  },
  {
   "cell_type": "code",
   "execution_count": 11,
   "id": "2425dab7",
   "metadata": {},
   "outputs": [
    {
     "data": {
      "text/plain": [
       "'最初a,次b'"
      ]
     },
     "execution_count": 11,
     "metadata": {},
     "output_type": "execute_result"
    }
   ],
   "source": [
    "first=\"a\"\n",
    "second=\"b\"\n",
    "\n",
    "'最初{},次{}'.format(first,second)\n"
   ]
  },
  {
   "cell_type": "code",
   "execution_count": 12,
   "id": "af7ffc01",
   "metadata": {},
   "outputs": [
    {
     "data": {
      "text/plain": [
       "'最初a,次b'"
      ]
     },
     "execution_count": 12,
     "metadata": {},
     "output_type": "execute_result"
    }
   ],
   "source": [
    "f'最初{first},次{second}'\n"
   ]
  },
  {
   "cell_type": "code",
   "execution_count": 19,
   "id": "b85ca498",
   "metadata": {},
   "outputs": [
    {
     "data": {
      "text/plain": [
       "'10進数=16,16進数=10,１０進数浮動小数点=16.000000'"
      ]
     },
     "execution_count": 19,
     "metadata": {},
     "output_type": "execute_result"
    }
   ],
   "source": [
    "# エスケープシーケンス＝特殊記号　文字列の中に組み込むことが多い\n",
    "# 書式化=\n",
    "'10進数=%d,16進数=%x,１０進数浮動小数点(１０進数の小数点付き)=%f' % (16, 16, 16)"
   ]
  },
  {
   "cell_type": "code",
   "execution_count": 22,
   "id": "d190ad7f",
   "metadata": {},
   "outputs": [
    {
     "data": {
      "text/plain": [
       "'WPA'"
      ]
     },
     "execution_count": 22,
     "metadata": {},
     "output_type": "execute_result"
    }
   ],
   "source": [
    "# 小文字から大文字\n",
    "'wPa'.upper()\n",
    "# セル内では１行しか実行結果表示されない"
   ]
  },
  {
   "cell_type": "code",
   "execution_count": 23,
   "id": "ba7a05cb",
   "metadata": {},
   "outputs": [
    {
     "data": {
      "text/plain": [
       "'wbs'"
      ]
     },
     "execution_count": 23,
     "metadata": {},
     "output_type": "execute_result"
    }
   ],
   "source": [
    "#大文字　小文字\n",
    "'wBs'.lower()"
   ]
  },
  {
   "cell_type": "code",
   "execution_count": 36,
   "id": "126ba05c",
   "metadata": {},
   "outputs": [
    {
     "ename": "ValueError",
     "evalue": "empty separator",
     "output_type": "error",
     "traceback": [
      "\u001b[1;31m---------------------------------------------------------------------------\u001b[0m",
      "\u001b[1;31mValueError\u001b[0m                                Traceback (most recent call last)",
      "\u001b[1;32m<ipython-input-36-4891de5ab1e3>\u001b[0m in \u001b[0;36m<module>\u001b[1;34m\u001b[0m\n\u001b[0;32m      1\u001b[0m \u001b[0mtext\u001b[0m \u001b[1;33m=\u001b[0m \u001b[1;34m'hello あ'\u001b[0m\u001b[1;33m\u001b[0m\u001b[1;33m\u001b[0m\u001b[0m\n\u001b[1;32m----> 2\u001b[1;33m \u001b[0mtext\u001b[0m\u001b[1;33m.\u001b[0m\u001b[0msplit\u001b[0m\u001b[1;33m(\u001b[0m\u001b[1;34m''\u001b[0m\u001b[1;33m)\u001b[0m\u001b[1;33m\u001b[0m\u001b[1;33m\u001b[0m\u001b[0m\n\u001b[0m",
      "\u001b[1;31mValueError\u001b[0m: empty separator"
     ]
    }
   ],
   "source": [
    "text = 'hello あ'\n",
    "text.split(' ')"
   ]
  },
  {
   "cell_type": "code",
   "execution_count": 38,
   "id": "808fd76b",
   "metadata": {},
   "outputs": [
    {
     "data": {
      "text/plain": [
       "'hello あ'"
      ]
     },
     "execution_count": 38,
     "metadata": {},
     "output_type": "execute_result"
    }
   ],
   "source": [
    "''.join(text)"
   ]
  },
  {
   "cell_type": "code",
   "execution_count": 41,
   "id": "a5a0cf54",
   "metadata": {},
   "outputs": [
    {
     "data": {
      "text/plain": [
       "'2 2kuuhaku'"
      ]
     },
     "execution_count": 41,
     "metadata": {},
     "output_type": "execute_result"
    }
   ],
   "source": [
    "text='  2 2kuuhaku  '\n",
    "text.strip()#真ん中は消えない"
   ]
  },
  {
   "cell_type": "code",
   "execution_count": 42,
   "id": "a0f691bd",
   "metadata": {},
   "outputs": [
    {
     "data": {
      "text/plain": [
       "'  3 3kuuhaku  '"
      ]
     },
     "execution_count": 42,
     "metadata": {},
     "output_type": "execute_result"
    }
   ],
   "source": [
    "text.replace('2', '3')"
   ]
  },
  {
   "cell_type": "code",
   "execution_count": null,
   "id": "2deac445",
   "metadata": {},
   "outputs": [],
   "source": []
  }
 ],
 "metadata": {
  "kernelspec": {
   "display_name": "Python 3",
   "language": "python",
   "name": "python3"
  },
  "language_info": {
   "codemirror_mode": {
    "name": "ipython",
    "version": 3
   },
   "file_extension": ".py",
   "mimetype": "text/x-python",
   "name": "python",
   "nbconvert_exporter": "python",
   "pygments_lexer": "ipython3",
   "version": "3.8.8"
  },
  "varInspector": {
   "cols": {
    "lenName": 16,
    "lenType": 16,
    "lenVar": 40
   },
   "kernels_config": {
    "python": {
     "delete_cmd_postfix": "",
     "delete_cmd_prefix": "del ",
     "library": "var_list.py",
     "varRefreshCmd": "print(var_dic_list())"
    },
    "r": {
     "delete_cmd_postfix": ") ",
     "delete_cmd_prefix": "rm(",
     "library": "var_list.r",
     "varRefreshCmd": "cat(var_dic_list()) "
    }
   },
   "types_to_exclude": [
    "module",
    "function",
    "builtin_function_or_method",
    "instance",
    "_Feature"
   ],
   "window_display": false
  }
 },
 "nbformat": 4,
 "nbformat_minor": 5
}
